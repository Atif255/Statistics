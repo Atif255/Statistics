{
 "cells": [
  {
   "cell_type": "code",
   "execution_count": 1,
   "id": "74014588",
   "metadata": {},
   "outputs": [],
   "source": [
    "import numpy as np\n",
    "import pandas as pd"
   ]
  },
  {
   "cell_type": "code",
   "execution_count": 2,
   "id": "bed9dd5b",
   "metadata": {},
   "outputs": [],
   "source": [
    "array1= np.array([1,2,3,4,5])"
   ]
  },
  {
   "cell_type": "code",
   "execution_count": 3,
   "id": "720fdff9",
   "metadata": {},
   "outputs": [
    {
     "data": {
      "text/plain": [
       "3.0"
      ]
     },
     "execution_count": 3,
     "metadata": {},
     "output_type": "execute_result"
    }
   ],
   "source": [
    "np.mean(array1)"
   ]
  },
  {
   "cell_type": "code",
   "execution_count": 4,
   "id": "941978ca",
   "metadata": {},
   "outputs": [],
   "source": [
    "array2= np.array([1,2,3,4,5,500])"
   ]
  },
  {
   "cell_type": "code",
   "execution_count": 5,
   "id": "d7b56360",
   "metadata": {},
   "outputs": [
    {
     "data": {
      "text/plain": [
       "85.83333333333333"
      ]
     },
     "execution_count": 5,
     "metadata": {},
     "output_type": "execute_result"
    }
   ],
   "source": [
    "np.mean(array2)"
   ]
  },
  {
   "cell_type": "code",
   "execution_count": 6,
   "id": "72afb685",
   "metadata": {},
   "outputs": [
    {
     "data": {
      "text/plain": [
       "3.0"
      ]
     },
     "execution_count": 6,
     "metadata": {},
     "output_type": "execute_result"
    }
   ],
   "source": [
    "np.mean(array1)"
   ]
  },
  {
   "cell_type": "code",
   "execution_count": 7,
   "id": "d8647204",
   "metadata": {},
   "outputs": [],
   "source": [
    "rainfall_list=[21.2,21,98,25,22,22.8,20.9,24.5,24,22.33]"
   ]
  },
  {
   "cell_type": "code",
   "execution_count": 8,
   "id": "76a152a5",
   "metadata": {},
   "outputs": [
    {
     "name": "stdout",
     "output_type": "stream",
     "text": [
      "mean: 30.172999999999995\n"
     ]
    }
   ],
   "source": [
    "print(\"mean:\",np.mean(rainfall_list))"
   ]
  },
  {
   "cell_type": "code",
   "execution_count": 9,
   "id": "27089c0a",
   "metadata": {},
   "outputs": [],
   "source": [
    "removing_outlier=[21.2,21,25,22,22.8,20.9,24.5,24,22.33]"
   ]
  },
  {
   "cell_type": "code",
   "execution_count": 10,
   "id": "5fd7375a",
   "metadata": {},
   "outputs": [
    {
     "name": "stdout",
     "output_type": "stream",
     "text": [
      "mean: 22.63666666666667\n"
     ]
    }
   ],
   "source": [
    "print(\"mean:\",np.mean(removing_outlier))"
   ]
  },
  {
   "cell_type": "code",
   "execution_count": 11,
   "id": "f8120a24",
   "metadata": {},
   "outputs": [],
   "source": [
    "obs=pd.Series([212,121,398,245,228,275,208,212,293,275,190,514,275,322,312])"
   ]
  },
  {
   "cell_type": "code",
   "execution_count": 12,
   "id": "c006e1c3",
   "metadata": {},
   "outputs": [
    {
     "data": {
      "text/plain": [
       "0    275\n",
       "dtype: int64"
      ]
     },
     "execution_count": 12,
     "metadata": {},
     "output_type": "execute_result"
    }
   ],
   "source": [
    "obs.mode()"
   ]
  },
  {
   "cell_type": "code",
   "execution_count": 13,
   "id": "f7eb3ed0",
   "metadata": {},
   "outputs": [],
   "source": [
    "count=pd.Series([2,4,6,8,10,12])"
   ]
  },
  {
   "cell_type": "code",
   "execution_count": 14,
   "id": "3d62f1e6",
   "metadata": {},
   "outputs": [
    {
     "name": "stdout",
     "output_type": "stream",
     "text": [
      "Q1: 4.5\n"
     ]
    }
   ],
   "source": [
    "#1st quartile\n",
    "print(\"Q1:\",count.quantile(0.25))"
   ]
  },
  {
   "cell_type": "code",
   "execution_count": 15,
   "id": "3052d0f9",
   "metadata": {},
   "outputs": [
    {
     "name": "stdout",
     "output_type": "stream",
     "text": [
      "Q2: 7.0\n"
     ]
    }
   ],
   "source": [
    "#2nd quartile (median)\n",
    "print(\"Q2:\",count.quantile(0.5))"
   ]
  },
  {
   "cell_type": "code",
   "execution_count": 16,
   "id": "af73a640",
   "metadata": {},
   "outputs": [
    {
     "name": "stdout",
     "output_type": "stream",
     "text": [
      "Q3: 9.5\n"
     ]
    }
   ],
   "source": [
    "#3rd quartile\n",
    "print(\"Q3:\",count.quantile(0.75))"
   ]
  },
  {
   "cell_type": "code",
   "execution_count": 17,
   "id": "7f606205",
   "metadata": {},
   "outputs": [
    {
     "name": "stdout",
     "output_type": "stream",
     "text": [
      "Q1: 211.2\n",
      "Q2: 275.0\n",
      "Q3: 302.5\n"
     ]
    }
   ],
   "source": [
    "obs=pd.Series([212,121,398,245,228,275,208,212,293,275,190,514,275,322,312])\n",
    "\n",
    "#1st quartile\n",
    "print(\"Q1:\",obs.quantile(0.2))\n",
    "\n",
    "#2nd quartile (median)\n",
    "print(\"Q2:\",obs.quantile(0.5))\n",
    "\n",
    "#3rd quartile\n",
    "print(\"Q3:\",obs.quantile(0.75))"
   ]
  },
  {
   "cell_type": "markdown",
   "id": "96e1549f",
   "metadata": {},
   "source": [
    "### Deciles"
   ]
  },
  {
   "cell_type": "code",
   "execution_count": 18,
   "id": "b5c65baa",
   "metadata": {},
   "outputs": [
    {
     "name": "stdout",
     "output_type": "stream",
     "text": [
      "D1: 1.9\n",
      "D2: 2.8\n",
      "D3: 3.6999999999999997\n",
      "D4: 4.6\n",
      "D5: 5.5\n",
      "D6: 6.3999999999999995\n",
      "D7: 7.3\n",
      "D8: 8.2\n",
      "D9: 9.1\n",
      "D10: 10.0\n"
     ]
    }
   ],
   "source": [
    "x=pd.Series([1,2,3,4,5,6,7,8,9,10])\n",
    "print(\"D1:\",x.quantile(0.1))\n",
    "print(\"D2:\",x.quantile(0.2))\n",
    "print(\"D3:\",x.quantile(0.3))\n",
    "print(\"D4:\",x.quantile(0.4))\n",
    "print(\"D5:\",x.quantile(0.5))\n",
    "print(\"D6:\",x.quantile(0.6))\n",
    "print(\"D7:\",x.quantile(0.7))\n",
    "print(\"D8:\",x.quantile(0.8))\n",
    "print(\"D9:\",x.quantile(0.9))\n",
    "print(\"D10:\",x.quantile(1))\n"
   ]
  },
  {
   "cell_type": "markdown",
   "id": "b77d6770",
   "metadata": {},
   "source": [
    "## Dispersion (Var & Std)"
   ]
  },
  {
   "cell_type": "code",
   "execution_count": 19,
   "id": "b3aa6a23",
   "metadata": {},
   "outputs": [
    {
     "name": "stdout",
     "output_type": "stream",
     "text": [
      "Range: 4\n"
     ]
    }
   ],
   "source": [
    "A=np.array([1,2,3,4,5])\n",
    "print(\"Range:\",A.max()-A.min())"
   ]
  },
  {
   "cell_type": "code",
   "execution_count": 20,
   "id": "96bde8ec",
   "metadata": {},
   "outputs": [
    {
     "name": "stdout",
     "output_type": "stream",
     "text": [
      "Variance: 2.0\n"
     ]
    }
   ],
   "source": [
    "print(\"Variance:\",np.var(A))"
   ]
  },
  {
   "cell_type": "code",
   "execution_count": 21,
   "id": "56bc809b",
   "metadata": {},
   "outputs": [
    {
     "name": "stdout",
     "output_type": "stream",
     "text": [
      "Variance: 409.84\n"
     ]
    }
   ],
   "source": [
    "B=[5,17,24,32,65]\n",
    "print(\"Variance:\",np.var(B))"
   ]
  },
  {
   "cell_type": "code",
   "execution_count": 22,
   "id": "c82060d9",
   "metadata": {},
   "outputs": [
    {
     "name": "stdout",
     "output_type": "stream",
     "text": [
      "Standard Deviation(B): 20.244505427399307\n"
     ]
    }
   ],
   "source": [
    "print(\"Standard Deviation(B):\",np.std(B))"
   ]
  },
  {
   "cell_type": "code",
   "execution_count": 23,
   "id": "eb2b8a51",
   "metadata": {},
   "outputs": [
    {
     "name": "stdout",
     "output_type": "stream",
     "text": [
      "Standard Deviation(A): 1.4142135623730951\n"
     ]
    }
   ],
   "source": [
    "print(\"Standard Deviation(A):\",np.std(A))"
   ]
  },
  {
   "cell_type": "code",
   "execution_count": 24,
   "id": "aba227cf",
   "metadata": {},
   "outputs": [
    {
     "data": {
      "text/plain": [
       "3.8181818181818183"
      ]
     },
     "execution_count": 24,
     "metadata": {},
     "output_type": "execute_result"
    }
   ],
   "source": [
    "#expected salary of employees at company A\n",
    "expected_sal_A=550\n",
    "#standard Deviation of employees at company A\n",
    "std_sal_A = 21\n",
    "#calculate Coefficient of Variation\n",
    "cv_A = (std_sal_A/expected_sal_A)*100\n",
    "cv_A"
   ]
  },
  {
   "cell_type": "code",
   "execution_count": 25,
   "id": "e8acee38",
   "metadata": {},
   "outputs": [
    {
     "data": {
      "text/plain": [
       "5.089058524173027"
      ]
     },
     "execution_count": 25,
     "metadata": {},
     "output_type": "execute_result"
    }
   ],
   "source": [
    "#expected salary of employees at company B\n",
    "expected_sal_B= 786\n",
    "#standard Deviation of employees at company B\n",
    "std_sal_B = 40\n",
    "#calculate Coefficient of Variation\n",
    "cv_B = (std_sal_B/expected_sal_B)*100\n",
    "cv_B"
   ]
  },
  {
   "cell_type": "code",
   "execution_count": 26,
   "id": "7802ffad",
   "metadata": {},
   "outputs": [],
   "source": [
    "### There is more consistency in the salary of employees at A"
   ]
  },
  {
   "cell_type": "markdown",
   "id": "9be42806",
   "metadata": {},
   "source": [
    "### Inter Quartile Range"
   ]
  },
  {
   "cell_type": "code",
   "execution_count": 27,
   "id": "bcf5f261",
   "metadata": {},
   "outputs": [
    {
     "data": {
      "text/plain": [
       "array([  1,   2,   3,   4,   5, 500])"
      ]
     },
     "execution_count": 27,
     "metadata": {},
     "output_type": "execute_result"
    }
   ],
   "source": [
    "array2"
   ]
  },
  {
   "cell_type": "code",
   "execution_count": 28,
   "id": "4bb2c2d6",
   "metadata": {},
   "outputs": [],
   "source": [
    "array2=pd.Series(array2)"
   ]
  },
  {
   "cell_type": "code",
   "execution_count": 29,
   "id": "17e34eab",
   "metadata": {},
   "outputs": [
    {
     "data": {
      "text/plain": [
       "2.5"
      ]
     },
     "execution_count": 29,
     "metadata": {},
     "output_type": "execute_result"
    }
   ],
   "source": [
    "Q1 = array2.quantile(0.25)\n",
    "Q3 = array2.quantile(0.75)\n",
    "#calculate Interquartile range\n",
    "IQR = Q3-Q1\n",
    "IQR"
   ]
  },
  {
   "cell_type": "markdown",
   "id": "07785633",
   "metadata": {},
   "source": [
    "#### The observation outside of the intevaal (Q1-1.5*IQR,Q3+1.5*IQR) is termed as 'outlier'"
   ]
  },
  {
   "cell_type": "code",
   "execution_count": null,
   "id": "67d97d1c",
   "metadata": {},
   "outputs": [],
   "source": [
    "Q1-1.5*IQR,Q3+1.5*IQR"
   ]
  },
  {
   "cell_type": "markdown",
   "id": "60b757c7",
   "metadata": {},
   "source": [
    "## Covariance"
   ]
  },
  {
   "cell_type": "markdown",
   "id": "5a41d7e5",
   "metadata": {},
   "source": [
    "##CASE 1"
   ]
  },
  {
   "cell_type": "code",
   "execution_count": null,
   "id": "a21707b3",
   "metadata": {},
   "outputs": [],
   "source": [
    "x=np.array([1,2,3,4,5])\n",
    "y= np.array([2,4,6,8,10])"
   ]
  },
  {
   "cell_type": "code",
   "execution_count": null,
   "id": "739f6ece",
   "metadata": {},
   "outputs": [],
   "source": [
    "A1=x-x.mean()\n",
    "A2=y-y.mean()"
   ]
  },
  {
   "cell_type": "code",
   "execution_count": null,
   "id": "ce09678d",
   "metadata": {},
   "outputs": [],
   "source": [
    "A3=A1*A2\n",
    "A3"
   ]
  },
  {
   "cell_type": "code",
   "execution_count": null,
   "id": "1cd70a34",
   "metadata": {},
   "outputs": [],
   "source": [
    "A4=sum(A3)\n",
    "A4"
   ]
  },
  {
   "cell_type": "markdown",
   "id": "e3dfae10",
   "metadata": {},
   "source": [
    "##CASE 2"
   ]
  },
  {
   "cell_type": "code",
   "execution_count": null,
   "id": "d67cb394",
   "metadata": {},
   "outputs": [],
   "source": [
    "x=np.array([1,2,3,4,5])\n",
    "y= np.array([10,8,6,4,2])"
   ]
  },
  {
   "cell_type": "code",
   "execution_count": null,
   "id": "8db7ba86",
   "metadata": {},
   "outputs": [],
   "source": [
    "A1=x-x.mean()\n",
    "A2=y-y.mean()"
   ]
  },
  {
   "cell_type": "code",
   "execution_count": null,
   "id": "dedbb4b9",
   "metadata": {},
   "outputs": [],
   "source": [
    "A3=A1*A2\n",
    "A3"
   ]
  },
  {
   "cell_type": "code",
   "execution_count": null,
   "id": "2e037afc",
   "metadata": {},
   "outputs": [],
   "source": [
    "A4=sum(A3)"
   ]
  },
  {
   "cell_type": "code",
   "execution_count": null,
   "id": "23d9373a",
   "metadata": {},
   "outputs": [],
   "source": [
    "covariance= A4/len(x)\n",
    "covariance"
   ]
  },
  {
   "cell_type": "code",
   "execution_count": null,
   "id": "a7fd4535",
   "metadata": {},
   "outputs": [],
   "source": []
  }
 ],
 "metadata": {
  "kernelspec": {
   "display_name": "Python 3 (ipykernel)",
   "language": "python",
   "name": "python3"
  },
  "language_info": {
   "codemirror_mode": {
    "name": "ipython",
    "version": 3
   },
   "file_extension": ".py",
   "mimetype": "text/x-python",
   "name": "python",
   "nbconvert_exporter": "python",
   "pygments_lexer": "ipython3",
   "version": "3.9.7"
  }
 },
 "nbformat": 4,
 "nbformat_minor": 5
}
